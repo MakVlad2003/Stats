{
  "cells": [
    {
      "cell_type": "markdown",
      "id": "9157b443",
      "metadata": {
        "id": "9157b443"
      },
      "source": [
        "# <a href=\"https://miptstats.github.io/courses/ad_mipt.html\">Phystech@DataScience</a>\n",
        "## Домашнее задание 9\n",
        "\n",
        "**Правила, <font color=\"red\">прочитайте внимательно</font>:**\n",
        "\n",
        "* Выполненную работу нужно отправить телеграм-боту `@miptstats_pds_bot`. Для начала работы с ботом каждый раз отправляйте `/start`. **Работы, присланные иным способом, не принимаются.**\n",
        "* Дедлайн см. в боте. После дедлайна работы не принимаются кроме случаев наличия уважительной причины.\n",
        "* Прислать нужно ноутбук в формате `ipynb`.\n",
        "* Выполнять задание необходимо полностью самостоятельно. **При обнаружении списывания все участники списывания будут сдавать устный зачет.**\n",
        "* Решения, размещенные на каких-либо интернет-ресурсах, не принимаются. Кроме того, публикация решения в открытом доступе может быть приравнена к предоставлении возможности списать.\n",
        "* Для выполнения задания используйте этот ноутбук в качестве основы, ничего не удаляя из него. Можно добавлять необходимое количество ячеек.\n",
        "* Комментарии к решению пишите в markdown-ячейках.\n",
        "* Выполнение задания (ход решения, выводы и пр.) должно быть осуществлено на русском языке.\n",
        "* Если код будет не понятен проверяющему, оценка может быть снижена.\n",
        "* Никакой код из данного задания при проверке запускаться не будет. *Если код студента не выполнен, недописан и т.д., то он не оценивается.*\n",
        "* **Код из рассказанных на занятиях ноутбуков можно использовать без ограничений.**\n",
        "\n",
        "**Правила оформления теоретических задач:**\n",
        "\n",
        "* Решения необходимо прислать одним из следующих способов:\n",
        "  * фотографией в правильной ориентации, где все четко видно, а почерк разборчив,\n",
        "    * отправив ее как файл боту вместе с ноутбуком *или*\n",
        "    * вставив ее в ноутбук посредством `Edit -> Insert Image` (<font color=\"red\">фото, вставленные ссылкой, не принимаются</font>);\n",
        "  * в виде $\\LaTeX$ в markdown-ячейках.\n",
        "* Решения не проверяются, если какое-то требование не выполнено. Особенно внимательно все проверьте в случае выбора второго пункта (вставки фото в ноутбук). <font color=\"red\"><b>Неправильно вставленные фотографии могут не передаться при отправке.</b></font> Для проверки попробуйте переместить `ipynb` в другую папку и открыть его там.\n",
        "* В решениях поясняйте, чем вы пользуетесь, хотя бы кратко. Например, если пользуетесь независимостью, то достаточно подписи вида \"*X и Y незав.*\"\n",
        "* Решение, в котором есть только ответ, и отсутствуют вычисления, оценивается в 0 баллов.\n",
        "\n",
        "**Баллы за задание:**\n",
        "\n",
        "<b><font color=\"blue\">Легкая часть</font></b> (достаточно на \"хор\"):\n",
        "* Задача 1 &mdash; 20 баллов\n",
        "* Задача 2 &mdash;  20 баллов\n",
        "* Задача 3 &mdash;  25 баллов\n",
        "* Задача 4 &mdash; 25 баллов\n",
        "\n",
        "<b><font color=\"orange\">Сложная часть</font></b> (необходимо на \"отл\"):\n",
        "* Задача 5 &mdash; 35 баллов\n",
        "\n",
        "\n",
        "-----"
      ]
    },
    {
      "cell_type": "code",
      "execution_count": 1,
      "id": "66c01268",
      "metadata": {
        "id": "66c01268"
      },
      "outputs": [],
      "source": [
        "# Bot check\n",
        "\n",
        "# HW_ID: phds_hw9\n",
        "# Бот проверит этот ID и предупредит, если случайно сдать что-то не то.\n",
        "\n",
        "# Status: final\n",
        "# Перед отправкой в финальном решении удали \"not\" в строчке выше.\n",
        "# Так бот проверит, что ты отправляешь финальную версию, а не промежуточную.\n",
        "# Никакие значения в этой ячейке не влияют на факт сдачи работы."
      ]
    },
    {
      "cell_type": "code",
      "execution_count": 86,
      "id": "6744ddcf",
      "metadata": {
        "id": "6744ddcf"
      },
      "outputs": [],
      "source": [
        "import numpy as np\n",
        "import scipy.stats as sps\n",
        "import matplotlib.pyplot as plt\n",
        "import seaborn as sns\n",
        "import pandas as pd\n",
        "\n",
        "sns.set(palette='Set2')"
      ]
    },
    {
      "cell_type": "markdown",
      "id": "004c83b3",
      "metadata": {
        "id": "004c83b3"
      },
      "source": [
        "### <b><i><font color=\"blue\">Легкая часть</font></i></b>\n"
      ]
    },
    {
      "cell_type": "markdown",
      "id": "0d1a2899",
      "metadata": {
        "id": "0d1a2899"
      },
      "source": [
        "### Задача 1\n",
        "Пусть $X = ( X_1, ... X_n)$ — выборка из неизвестного распределения $\\mathsf{P} \\in \\{ \\mathsf{P}_{\\theta} | \\theta \\in \\Theta \\}$\n",
        "и для проверки гипотез $\\mathsf{H}_0 : \\theta \\in [−1, 1]$   vs.  $\\mathsf{H}_1 : \\theta \\notin [−1, 1]$ используется критерий\n",
        "$S = \\{x \\in \\mathbb{R}^n | T(x) > 1\\}$. Предположим, $T(x)$ имеет распределение $\\mathcal{N}(\\theta, 1)$. Какие\n",
        "ответы возможны в результате проверки данных гипотез и в каких случаях? Найдите\n",
        "вероятность ошибки первого рода.\n",
        "\n",
        "*Указание:*\n",
        "- Не забудьте, что в определении вероятности ошибки I рода стоит супремум по всем параметрам из основной гипотезы\n",
        "- Можно показать, где достигается супремум графически. Например, с помощью `sps.norm`, где параметр `loc` отвечает за сдвиг.\n",
        "\n",
        "***Решение:***\n",
        "\n",
        "1. $X \\in S:$ и $H_0$ верна - ошибка I рода.\n",
        "\n",
        "2. $X \\in S:$ и $H_0$ неверна - все ОК.\n",
        "\n",
        "3. $X \\notin S:$ и $H_0$ верна - все ОК.\n",
        "\n",
        "4. $X \\notin S:$ и $H_0$ неверна - ошибка II рода.\n",
        "\n",
        "Найдём вероятность ошибки I рода:\n",
        "\n",
        "$$P(I_S) = \\sup_{\\theta \\in [-1, 1]}P_{\\theta}(x \\in S) = \\sup_{\\theta \\in [-1, 1]}P_{\\theta}(T(X) > 1) = \\sup_{\\theta \\in [-1, 1]}(1 - \\varPhi_T(1)) = 0.5$$\n",
        "\n"
      ]
    },
    {
      "cell_type": "code",
      "source": [
        "theta = np.linspace(-1, 1, 300)\n",
        "error = sps.norm(loc = theta).sf(1)\n",
        "\n",
        "plt.figure(figsize = (8, 5))\n",
        "plt.plot(theta, error)\n",
        "\n",
        "plt.ylabel('P')\n",
        "plt.xlabel(r'$\\theta$')"
      ],
      "metadata": {
        "colab": {
          "base_uri": "https://localhost:8080/",
          "height": 490
        },
        "id": "8IJH5sebAouu",
        "outputId": "51c3dbf2-a6f7-426d-d19e-3a164bd7da76"
      },
      "id": "8IJH5sebAouu",
      "execution_count": 4,
      "outputs": [
        {
          "output_type": "execute_result",
          "data": {
            "text/plain": [
              "Text(0.5, 0, '$\\\\theta$')"
            ]
          },
          "metadata": {},
          "execution_count": 4
        },
        {
          "output_type": "display_data",
          "data": {
            "text/plain": [
              "<Figure size 800x500 with 1 Axes>"
            ],
            "image/png": "[encoded data removed]"
          },
          "metadata": {}
        }
      ]
    },
    {
      "cell_type": "markdown",
      "id": "d5953131",
      "metadata": {
        "id": "d5953131"
      },
      "source": [
        "### Задача 2\n",
        "\n",
        "Проведен эксперимент, получены данные из экспоненциального распределения."
      ]
    },
    {
      "cell_type": "code",
      "execution_count": 16,
      "id": "874ad1c7",
      "metadata": {
        "id": "874ad1c7"
      },
      "outputs": [],
      "source": [
        "sample = np.array([0.11731702, 0.75253036, 0.32918642, 0.22823564, 0.04240622,\n",
        "        0.04239907, 0.01495969, 0.50280772, 0.22977054, 0.30781252,\n",
        "        0.00519983, 0.87588937, 0.44660739, 0.05967191, 0.05016975,\n",
        "        0.05065286, 0.09068843, 0.18598196, 0.14138427, 0.08605575,\n",
        "        0.23659272, 0.03755863, 0.08637888, 0.1140693 , 0.15223367,\n",
        "        0.384484  , 0.05568397, 0.18050729, 0.22437618, 0.01189096])"
      ]
    },
    {
      "cell_type": "markdown",
      "id": "3a3e2c61",
      "metadata": {
        "id": "3a3e2c61"
      },
      "source": [
        "Необходимо проверить, является ли это распределение с параметром $\\lambda=2$. Используя Критерий Вальда, сделайте вывод по данному предположению.\n",
        "\n",
        "$X_1, ... X_n$ &mdash; выборка из распределения $Exp(\\lambda)$.  \n",
        "Проверьте гипотезу $\\mathsf{H}_0\\colon \\lambda = 2$ vs. $\\mathsf{H}_1\\colon \\lambda \\neq 2$  \n",
        "  \n",
        "\n",
        "\n",
        ""
      ]
    },
    {
      "cell_type": "markdown",
      "id": "61838f5e",
      "metadata": {
        "id": "61838f5e"
      },
      "source": [
        "**1.** Из лекции вы узнали про критерий Вальда.\n",
        "Для случая двусторонней альтернативы $\\mathsf{H}_1\\colon \\theta \\neq \\theta_0$ критерий имел следующий вид:\n",
        "$$\\large{S = \\left\\{ \\left|\\sqrt{n} \\frac{\\hat{\\theta} - \\theta_0}{\\hat{\\sigma}} \\right| > z_{1 - \\frac{\\alpha}{2}} \\right\\}}$$\n",
        "\n",
        "где $\\hat{\\theta}$ &mdash; асимптотически нормальная оценка $\\theta$ с асимптотической дисперсией $\\sigma^2(\\theta)$,\n",
        "$\\hat{\\sigma}$ &mdash; состоятельная оценка $\\sigma(\\theta)$.  \n",
        "\n",
        "Эквивалентный асимптотичсекий доверительный интервал для параметра $\\theta$ уровня доверия $1-\\alpha$\n",
        "$$C = \\left( \\hat{\\theta} - \\frac{z_{1-\\alpha/2} \\hat{\\sigma}}{\\sqrt{n}}, \\hat{\\theta} + \\frac{z_{1-\\alpha/2} \\hat{\\sigma}}{\\sqrt{n}}\\right)$$\n",
        "\n",
        "На первой лекции вы получали, что $\\frac{1}{\\overline{X}}$ &mdash; АНО для параметра $\\theta$ c асимптотической дисперсией $\\theta^2$\n",
        "\n",
        "\n",
        " **Выпишите состоятельную оценку дисперсии и статистику критерия Вальда**\n",
        "\n",
        ""
      ]
    },
    {
      "cell_type": "markdown",
      "id": "fc62e64c",
      "metadata": {
        "id": "fc62e64c"
      },
      "source": [
        "**Ответ:**\n",
        "\n",
        "$\\hat{\\sigma}^2 = \\sigma^2(\\hat{\\theta}) = \\frac{1}{\\overline{X}^2}$"
      ]
    },
    {
      "cell_type": "markdown",
      "id": "5d9971ca",
      "metadata": {
        "id": "5d9971ca"
      },
      "source": [
        "На лекции вы узнали про p-value &mdash; это вероятность получить при справедливости $H_0$ такое значение статистики $t = T(x)$ или еще более экстремальное, то есть в случае двустороннего критерия\n",
        "$$p(x) = \\mathsf{P}_0(T(X) \\geq|t|) + \\mathsf{P}_0(T(X) \\leq -|t|)$$\n",
        "Для расчета можно использовать функции из библиотеки `scipy.stats`."
      ]
    },
    {
      "cell_type": "markdown",
      "id": "dd8eb639",
      "metadata": {
        "id": "dd8eb639"
      },
      "source": [
        "**2**. Оформите функцию подсчета статистики критерия, p-value и доверительного интервала"
      ]
    },
    {
      "cell_type": "code",
      "source": [
        "alpha = 0.05\n",
        "theta = 2\n",
        "n = len(sample)"
      ],
      "metadata": {
        "id": "htxKzQ8BG-k_"
      },
      "id": "htxKzQ8BG-k_",
      "execution_count": 30,
      "outputs": []
    },
    {
      "cell_type": "code",
      "execution_count": 81,
      "id": "d82257c3",
      "metadata": {
        "id": "d82257c3"
      },
      "outputs": [],
      "source": [
        "def wald_test(sample, theta, estimation_theta, estimation_sigma, alternative = 'two_sided'):\n",
        "    \"\"\"\n",
        "    param sample: реализация выборки\n",
        "    param theta: истинное значение параметра\n",
        "    param estimation_theta: оценка параметра\n",
        "    param estimation_sigma: оценка асимптотической дисперсии\n",
        "        оценки estimation_sigma\n",
        "    param alternative: вид альтернативной гипотезы,\n",
        "        может принимать одно из значений 'two_sided', 'less', 'greater'\n",
        "\n",
        "    return statistic\n",
        "    return p_value\n",
        "    return conf_int - доверительный интервал\n",
        "    \"\"\"\n",
        "\n",
        "    alpha = 0.05\n",
        "    n = sample.shape[-1]\n",
        "\n",
        "    if alternative == 'two_sided':\n",
        "        z = sps.norm.ppf(1 - alpha/2)\n",
        "        statistic = np.abs(np.sqrt(n) * (estimation_theta - theta) / estimation_sigma)\n",
        "        conf_int = ((estimation_theta - z * estimation_sigma / np.sqrt(n)).round(3), (estimation_theta + z * estimation_sigma / np.sqrt(n)).round(3))\n",
        "        p_value = 2 * sps.norm.sf(statistic)\n",
        "\n",
        "    elif alternative == 'less':\n",
        "        z = sps.norm.ppf(alpha)\n",
        "        statistic = np.sqrt(n) * (estimation_theta - theta) / estimation_sigma\n",
        "        conf_int = (-np.inf, (estimation_theta - z * estimation_sigma / np.sqrt(n)).round(3))\n",
        "        p_value = sps.norm.cdf(statistic)\n",
        "\n",
        "    elif alternative == 'greater':\n",
        "\n",
        "        z = sps.norm.ppf(1 - alpha)\n",
        "        statistic = np.sqrt(n) * (estimation_theta - theta) / estimation_sigma\n",
        "        conf_int = ((estimation_theta - z * estimation_sigma / np.sqrt(n)).round(3), np.inf)\n",
        "        p_value = sps.norm.sf(statistic)\n",
        "\n",
        "    return statistic.round(7), p_value.round(5), conf_int"
      ]
    },
    {
      "cell_type": "code",
      "source": [
        "estim = 1 / sample.mean()\n",
        "std = 1 / sample.mean()"
      ],
      "metadata": {
        "id": "KvQApsffHDVR"
      },
      "id": "KvQApsffHDVR",
      "execution_count": 82,
      "outputs": []
    },
    {
      "cell_type": "markdown",
      "id": "beef33ef",
      "metadata": {
        "id": "beef33ef"
      },
      "source": [
        "**3**. Проверьте гипотезу с двусторонней альтернативой."
      ]
    },
    {
      "cell_type": "code",
      "execution_count": 83,
      "id": "babdcce6",
      "metadata": {
        "colab": {
          "base_uri": "https://localhost:8080/"
        },
        "id": "babdcce6",
        "outputId": "69018a11-de1d-411a-f524-768f5861a1ea"
      },
      "outputs": [
        {
          "output_type": "stream",
          "name": "stdout",
          "text": [
            "Для двусторонней альтернативы: \n",
            " Статистика: 3.2704505, \n",
            " P-value: 0.00107, \n",
            " Доверительный интервал: (3.188, 6.74)\n"
          ]
        }
      ],
      "source": [
        "two_sided = wald_test(sample, theta, estim, std, alternative = 'two_sided')\n",
        "print(f'Для двусторонней альтернативы: \\n Статистика: {two_sided[0]}, \\n P-value: {two_sided[1]}, \\n Доверительный интервал: {two_sided[2]}')"
      ]
    },
    {
      "cell_type": "markdown",
      "id": "ab32a1f0",
      "metadata": {
        "id": "ab32a1f0"
      },
      "source": [
        "**Вывод:**\n",
        "\n",
        "В случае двусторонней альтернативы мы можем отвергнуть нулевую гипотезу в пользу альтернативной гипотезы, так как значение p_value < 0.05, значит результат статистически значимый."
      ]
    },
    {
      "cell_type": "markdown",
      "id": "b9269b95",
      "metadata": {
        "id": "b9269b95"
      },
      "source": [
        "**4**. Проверьте гипотезу с правосторонней альтернативой."
      ]
    },
    {
      "cell_type": "code",
      "execution_count": 71,
      "id": "852db5bd",
      "metadata": {
        "colab": {
          "base_uri": "https://localhost:8080/"
        },
        "id": "852db5bd",
        "outputId": "5e94265b-4432-460d-bf1d-fe401817f992"
      },
      "outputs": [
        {
          "output_type": "stream",
          "name": "stdout",
          "text": [
            "Для правосторонней альтернативы: \n",
            " Cтатистика: 3.2704505, \n",
            " P-value: 0.00054, \n",
            " Доверительный интервал: (3.473, inf)\n"
          ]
        }
      ],
      "source": [
        "greater = wald_test(sample, theta, estim, std, alternative = 'greater')\n",
        "print(f'Для правосторонней альтернативы: \\n Cтатистика: {greater[0]}, \\n P-value: {greater[1]}, \\n Доверительный интервал: {greater[2]}')"
      ]
    },
    {
      "cell_type": "markdown",
      "id": "677c5087",
      "metadata": {
        "id": "677c5087"
      },
      "source": [
        "**Вывод:**\n",
        "\n",
        "Правосторонняя альтернатива позволяет нам отвергнуть нулевую гипотезу, так как значение p-value < 0.05, то есть результат статистически значимый."
      ]
    },
    {
      "cell_type": "markdown",
      "id": "14bcda8f",
      "metadata": {
        "id": "14bcda8f"
      },
      "source": [
        "**5**. Проверьте гипотезу с левосторонней альтернативой."
      ]
    },
    {
      "cell_type": "code",
      "execution_count": 94,
      "id": "e37f9413",
      "metadata": {
        "colab": {
          "base_uri": "https://localhost:8080/"
        },
        "id": "e37f9413",
        "outputId": "4ccf07f2-c5d4-47d1-a690-1639f4f30fd4"
      },
      "outputs": [
        {
          "output_type": "stream",
          "name": "stdout",
          "text": [
            "Для левосторонней альтернативы: \n",
            " Cтатистика: 36.4087145, \n",
            " P-value: 1.0, \n",
            " Доверительный интервал: (-inf, 1.041)\n"
          ]
        }
      ],
      "source": [
        "less = wald_test(sample, theta, estim, std, alternative = 'less')\n",
        "print(f'Для левосторонней альтернативы: \\n Cтатистика: {less[0]}, \\n P-value: {less[1]}, \\n Доверительный интервал: {less[2]}')"
      ]
    },
    {
      "cell_type": "markdown",
      "id": "a899cb81",
      "metadata": {
        "id": "a899cb81"
      },
      "source": [
        "**Вывод:**\n",
        "\n",
        "Мы не можем отвергнуть нулевую гипотезу в случае левосторонней альтернативы, так как значение p-value очень большое."
      ]
    },
    {
      "cell_type": "markdown",
      "id": "37f3364a",
      "metadata": {
        "id": "37f3364a"
      },
      "source": [
        "### Задача 3\n",
        "\n",
        "На практике часто рассматривают асимптотические критерии, например, критерий Вальда. Такие критерии контролируют вероятность ошибки I рода на уровне $\\alpha$ только в пределе, однако для небольших выборок она может сильно отличаться от $\\alpha$, причем нередко в большую сторону. Поэтому для таких критериев возникает необходимость в вычислении значения вероятности ошибки I рода или *реального уровня значимости* при конечной выборке.\n",
        "\n",
        "Зачастую посчитать точное значение реального уровня значимости довольно сложно, поэтому вместо него вычисляют оценку с помощью сэмплирования по методу Монте-Карло.\n",
        "\n",
        "Пусть гипотеза $\\mathsf{H}_0$ простая, то есть $\\mathsf{H}_0\\colon \\mathsf{P} = \\mathsf{P}_0$. Для ее проверки по конечной выборке $X_1, ..., X_n$ используется критерий $S$. **Опишите схему оценки реального уровня** значимости критерия $S$ методом Монте-Карло.\n"
      ]
    },
    {
      "cell_type": "markdown",
      "id": "d76af73a",
      "metadata": {
        "id": "d76af73a"
      },
      "source": [
        "**Ответ:**\n",
        "\n",
        "$$P(I_S) = P_{\\theta_0}(X \\in S) = \\mathbb{E}_{\\theta_0}I\\{X \\in S\\}$$\n",
        "\n",
        "1. Генерируем K выборок $X^k = (X_1^k, ... , X_n^k)$ из распределения с $\\theta = \\theta_0$: $\\forall k \\rightarrow I^k = I\\{X^k \\in S\\}$\n",
        "2. $\\widehat{P(I_S)} = \\overline{I\\{X \\in S\\}}$\n",
        "3. Погрешность $\\varepsilon \\approx \\frac{1}{\\sqrt{k}}$"
      ]
    },
    {
      "cell_type": "markdown",
      "id": "1d6e5aaa",
      "metadata": {
        "id": "1d6e5aaa"
      },
      "source": [
        "Если гипотеза $\\mathsf{H}_0$ сложная, то есть $\\mathsf{H}_0\\colon \\mathsf{P} \\in \\mathscr{P}_0$, то можно повторить такую процедуру несколько раз для разных $\\mathsf{P} \\in \\mathscr{P}_0$.\n",
        "\n",
        "Рассмотрим альтернативную гипотезу $\\mathsf{H}_1\\colon \\mathsf{P} \\in \\mathscr{P}_1$. **Опишите схему оценки мощности** критерия $S$ методом Монте-Карло."
      ]
    },
    {
      "cell_type": "markdown",
      "id": "b7ef9eb9",
      "metadata": {
        "id": "b7ef9eb9"
      },
      "source": [
        "**Ответ:**\n",
        "\n",
        "Алгоритм тот же самый, только выборки генерируем из $\\theta \\in \\Theta_1$, так как:\n",
        "\n",
        "$$\\beta_S(\\theta) = P_{\\theta} (X \\in S), \\quad \\theta \\in \\Theta_1,$$ т.е. $$\\hat{\\beta}_S = \\overline{I\\{X \\in S\\}}$$"
      ]
    },
    {
      "cell_type": "markdown",
      "id": "9dd91e81",
      "metadata": {
        "id": "9dd91e81"
      },
      "source": [
        "Пусть $X_1, ..., X_n$ &mdash; выборка из пуассоновского распределения с параметром $\\theta$. Рассмотрим гипотезы $\\mathsf{H}_0\\colon \\theta = 1\\ \\ vs.\\ \\ \\mathsf{H}_1\\colon \\theta \\not= 1$ и критерий Вальда для их проверки.\n",
        "\n",
        "**1.** **Оцените реальный уровень значимости** критерия для $ n = 50$."
      ]
    },
    {
      "cell_type": "code",
      "execution_count": 84,
      "id": "988feee1",
      "metadata": {
        "colab": {
          "base_uri": "https://localhost:8080/"
        },
        "id": "988feee1",
        "outputId": "ecf2d688-59de-4a88-9620-7991f63e349e"
      },
      "outputs": [
        {
          "output_type": "execute_result",
          "data": {
            "text/plain": [
              "0.0462"
            ]
          },
          "metadata": {},
          "execution_count": 84
        }
      ],
      "source": [
        "alpha = 0.05\n",
        "sample_size = 50\n",
        "sample_count = 10000\n",
        "\n",
        "X = sps.poisson(mu = 1).rvs(size=(sample_count, sample_size))\n",
        "\n",
        "estim = X.mean(axis = 1)\n",
        "est_std = np.sqrt(estim)\n",
        "\n",
        "w = wald_test(X, 1, estim, est_std, alternative = 'two_sided')[0]\n",
        "z = sps.norm.ppf(1 - alpha/2)\n",
        "\n",
        "np.where(w > z)[0].shape[0] / sample_count"
      ]
    },
    {
      "cell_type": "markdown",
      "id": "76973cfd",
      "metadata": {
        "id": "76973cfd"
      },
      "source": [
        "**Вывод:**\n",
        "\n",
        "Реальный уровень значимости, оцененный на основе реальных данных, практически совпадает с асимптотическим уровнем значимости, что подтверждает корректность выбранного метода и аппроксимации. Это указывает на то, что теоретические результаты, основанные на асимптотических предположениях, хорошо соответствуют реальным данным, и это хорошо :)"
      ]
    },
    {
      "cell_type": "markdown",
      "id": "4e645cc9",
      "metadata": {
        "id": "4e645cc9"
      },
      "source": [
        "**2.** Пусть $n=50$. **Сравните мощности критериев**, соответствующих двусторонней, левосторонней и правосторонней альтернативам при $\\theta=0.2$ и при $\\theta=2$."
      ]
    },
    {
      "cell_type": "code",
      "execution_count": 88,
      "id": "51b10c35",
      "metadata": {
        "colab": {
          "base_uri": "https://localhost:8080/",
          "height": 143
        },
        "id": "51b10c35",
        "outputId": "1bdcb73a-46a4-4d37-d96b-14d38484800b"
      },
      "outputs": [
        {
          "output_type": "execute_result",
          "data": {
            "text/plain": [
              "           theta = 0.2  theta = 2\n",
              "two_sided          1.0     1.0000\n",
              "greater            0.0     0.9999\n",
              "less               1.0     0.0000"
            ],
            "text/html": [
              "\n",
              "  <div id=\"df-063db438-f5c5-4a69-b615-e0990c42816b\" class=\"colab-df-container\">\n",
              "    <div>\n",
              "<style scoped>\n",
              "    .dataframe tbody tr th:only-of-type {\n",
              "        vertical-align: middle;\n",
              "    }\n",
              "\n",
              "    .dataframe tbody tr th {\n",
              "        vertical-align: top;\n",
              "    }\n",
              "\n",
              "    .dataframe thead th {\n",
              "        text-align: right;\n",
              "    }\n",
              "</style>\n",
              "<table border=\"1\" class=\"dataframe\">\n",
              "  <thead>\n",
              "    <tr style=\"text-align: right;\">\n",
              "      <th></th>\n",
              "      <th>theta = 0.2</th>\n",
              "      <th>theta = 2</th>\n",
              "    </tr>\n",
              "  </thead>\n",
              "  <tbody>\n",
              "    <tr>\n",
              "      <th>two_sided</th>\n",
              "      <td>1.0</td>\n",
              "      <td>1.0000</td>\n",
              "    </tr>\n",
              "    <tr>\n",
              "      <th>greater</th>\n",
              "      <td>0.0</td>\n",
              "      <td>0.9999</td>\n",
              "    </tr>\n",
              "    <tr>\n",
              "      <th>less</th>\n",
              "      <td>1.0</td>\n",
              "      <td>0.0000</td>\n",
              "    </tr>\n",
              "  </tbody>\n",
              "</table>\n",
              "</div>\n",
              "    <div class=\"colab-df-buttons\">\n",
              "\n",
              "  <div class=\"colab-df-container\">\n",
              "    <button class=\"colab-df-convert\" onclick=\"convertToInteractive('df-063db438-f5c5-4a69-b615-e0990c42816b')\"\n",
              "            title=\"Convert this dataframe to an interactive table.\"\n",
              "            style=\"display:none;\">\n",
              "\n",
              "  <svg xmlns=\"http://www.w3.org/2000/svg\" height=\"24px\" viewBox=\"0 -960 960 960\">\n",
              "    <path d=\"M120-120v-720h720v720H120Zm60-500h600v-160H180v160Zm220 220h160v-160H400v160Zm0 220h160v-160H400v160ZM180-400h160v-160H180v160Zm440 0h160v-160H620v160ZM180-180h160v-160H180v160Zm440 0h160v-160H620v160Z\"/>\n",
              "  </svg>\n",
              "    </button>\n",
              "\n",
              "  <style>\n",
              "    .colab-df-container {\n",
              "      display:flex;\n",
              "      gap: 12px;\n",
              "    }\n",
              "\n",
              "    .colab-df-convert {\n",
              "      background-color: #E8F0FE;\n",
              "      border: none;\n",
              "      border-radius: 50%;\n",
              "      cursor: pointer;\n",
              "      display: none;\n",
              "      fill: #1967D2;\n",
              "      height: 32px;\n",
              "      padding: 0 0 0 0;\n",
              "      width: 32px;\n",
              "    }\n",
              "\n",
              "    .colab-df-convert:hover {\n",
              "      background-color: #E2EBFA;\n",
              "      box-shadow: 0px 1px 2px rgba(60, 64, 67, 0.3), 0px 1px 3px 1px rgba(60, 64, 67, 0.15);\n",
              "      fill: #174EA6;\n",
              "    }\n",
              "\n",
              "    .colab-df-buttons div {\n",
              "      margin-bottom: 4px;\n",
              "    }\n",
              "\n",
              "    [theme=dark] .colab-df-convert {\n",
              "      background-color: #3B4455;\n",
              "      fill: #D2E3FC;\n",
              "    }\n",
              "\n",
              "    [theme=dark] .colab-df-convert:hover {\n",
              "      background-color: #434B5C;\n",
              "      box-shadow: 0px 1px 3px 1px rgba(0, 0, 0, 0.15);\n",
              "      filter: drop-shadow(0px 1px 2px rgba(0, 0, 0, 0.3));\n",
              "      fill: #FFFFFF;\n",
              "    }\n",
              "  </style>\n",
              "\n",
              "    <script>\n",
              "      const buttonEl =\n",
              "        document.querySelector('#df-063db438-f5c5-4a69-b615-e0990c42816b button.colab-df-convert');\n",
              "      buttonEl.style.display =\n",
              "        google.colab.kernel.accessAllowed ? 'block' : 'none';\n",
              "\n",
              "      async function convertToInteractive(key) {\n",
              "        const element = document.querySelector('#df-063db438-f5c5-4a69-b615-e0990c42816b');\n",
              "        const dataTable =\n",
              "          await google.colab.kernel.invokeFunction('convertToInteractive',\n",
              "                                                    [key], {});\n",
              "        if (!dataTable) return;\n",
              "\n",
              "        const docLinkHtml = 'Like what you see? Visit the ' +\n",
              "          '<a target=\"_blank\" href=https://colab.research.google.com/notebooks/data_table.ipynb>data table notebook</a>'\n",
              "          + ' to learn more about interactive tables.';\n",
              "        element.innerHTML = '';\n",
              "        dataTable['output_type'] = 'display_data';\n",
              "        await google.colab.output.renderOutput(dataTable, element);\n",
              "        const docLink = document.createElement('div');\n",
              "        docLink.innerHTML = docLinkHtml;\n",
              "        element.appendChild(docLink);\n",
              "      }\n",
              "    </script>\n",
              "  </div>\n",
              "\n",
              "\n",
              "<div id=\"df-f2ea50e3-15e3-4654-a2b2-d1e46fc601e8\">\n",
              "  <button class=\"colab-df-quickchart\" onclick=\"quickchart('df-f2ea50e3-15e3-4654-a2b2-d1e46fc601e8')\"\n",
              "            title=\"Suggest charts\"\n",
              "            style=\"display:none;\">\n",
              "\n",
              "<svg xmlns=\"http://www.w3.org/2000/svg\" height=\"24px\"viewBox=\"0 0 24 24\"\n",
              "     width=\"24px\">\n",
              "    <g>\n",
              "        <path d=\"M19 3H5c-1.1 0-2 .9-2 2v14c0 1.1.9 2 2 2h14c1.1 0 2-.9 2-2V5c0-1.1-.9-2-2-2zM9 17H7v-7h2v7zm4 0h-2V7h2v10zm4 0h-2v-4h2v4z\"/>\n",
              "    </g>\n",
              "</svg>\n",
              "  </button>\n",
              "\n",
              "<style>\n",
              "  .colab-df-quickchart {\n",
              "      --bg-color: #E8F0FE;\n",
              "      --fill-color: #1967D2;\n",
              "      --hover-bg-color: #E2EBFA;\n",
              "      --hover-fill-color: #174EA6;\n",
              "      --disabled-fill-color: #AAA;\n",
              "      --disabled-bg-color: #DDD;\n",
              "  }\n",
              "\n",
              "  [theme=dark] .colab-df-quickchart {\n",
              "      --bg-color: #3B4455;\n",
              "      --fill-color: #D2E3FC;\n",
              "      --hover-bg-color: #434B5C;\n",
              "      --hover-fill-color: #FFFFFF;\n",
              "      --disabled-bg-color: #3B4455;\n",
              "      --disabled-fill-color: #666;\n",
              "  }\n",
              "\n",
              "  .colab-df-quickchart {\n",
              "    background-color: var(--bg-color);\n",
              "    border: none;\n",
              "    border-radius: 50%;\n",
              "    cursor: pointer;\n",
              "    display: none;\n",
              "    fill: var(--fill-color);\n",
              "    height: 32px;\n",
              "    padding: 0;\n",
              "    width: 32px;\n",
              "  }\n",
              "\n",
              "  .colab-df-quickchart:hover {\n",
              "    background-color: var(--hover-bg-color);\n",
              "    box-shadow: 0 1px 2px rgba(60, 64, 67, 0.3), 0 1px 3px 1px rgba(60, 64, 67, 0.15);\n",
              "    fill: var(--button-hover-fill-color);\n",
              "  }\n",
              "\n",
              "  .colab-df-quickchart-complete:disabled,\n",
              "  .colab-df-quickchart-complete:disabled:hover {\n",
              "    background-color: var(--disabled-bg-color);\n",
              "    fill: var(--disabled-fill-color);\n",
              "    box-shadow: none;\n",
              "  }\n",
              "\n",
              "  .colab-df-spinner {\n",
              "    border: 2px solid var(--fill-color);\n",
              "    border-color: transparent;\n",
              "    border-bottom-color: var(--fill-color);\n",
              "    animation:\n",
              "      spin 1s steps(1) infinite;\n",
              "  }\n",
              "\n",
              "  @keyframes spin {\n",
              "    0% {\n",
              "      border-color: transparent;\n",
              "      border-bottom-color: var(--fill-color);\n",
              "      border-left-color: var(--fill-color);\n",
              "    }\n",
              "    20% {\n",
              "      border-color: transparent;\n",
              "      border-left-color: var(--fill-color);\n",
              "      border-top-color: var(--fill-color);\n",
              "    }\n",
              "    30% {\n",
              "      border-color: transparent;\n",
              "      border-left-color: var(--fill-color);\n",
              "      border-top-color: var(--fill-color);\n",
              "      border-right-color: var(--fill-color);\n",
              "    }\n",
              "    40% {\n",
              "      border-color: transparent;\n",
              "      border-right-color: var(--fill-color);\n",
              "      border-top-color: var(--fill-color);\n",
              "    }\n",
              "    60% {\n",
              "      border-color: transparent;\n",
              "      border-right-color: var(--fill-color);\n",
              "    }\n",
              "    80% {\n",
              "      border-color: transparent;\n",
              "      border-right-color: var(--fill-color);\n",
              "      border-bottom-color: var(--fill-color);\n",
              "    }\n",
              "    90% {\n",
              "      border-color: transparent;\n",
              "      border-bottom-color: var(--fill-color);\n",
              "    }\n",
              "  }\n",
              "</style>\n",
              "\n",
              "  <script>\n",
              "    async function quickchart(key) {\n",
              "      const quickchartButtonEl =\n",
              "        document.querySelector('#' + key + ' button');\n",
              "      quickchartButtonEl.disabled = true;  // To prevent multiple clicks.\n",
              "      quickchartButtonEl.classList.add('colab-df-spinner');\n",
              "      try {\n",
              "        const charts = await google.colab.kernel.invokeFunction(\n",
              "            'suggestCharts', [key], {});\n",
              "      } catch (error) {\n",
              "        console.error('Error during call to suggestCharts:', error);\n",
              "      }\n",
              "      quickchartButtonEl.classList.remove('colab-df-spinner');\n",
              "      quickchartButtonEl.classList.add('colab-df-quickchart-complete');\n",
              "    }\n",
              "    (() => {\n",
              "      let quickchartButtonEl =\n",
              "        document.querySelector('#df-f2ea50e3-15e3-4654-a2b2-d1e46fc601e8 button');\n",
              "      quickchartButtonEl.style.display =\n",
              "        google.colab.kernel.accessAllowed ? 'block' : 'none';\n",
              "    })();\n",
              "  </script>\n",
              "</div>\n",
              "    </div>\n",
              "  </div>\n"
            ],
            "application/vnd.google.colaboratory.intrinsic+json": {
              "type": "dataframe",
              "variable_name": "answer",
              "summary": "{\n  \"name\": \"answer\",\n  \"rows\": 3,\n  \"fields\": [\n    {\n      \"column\": \"theta = 0.2\",\n      \"properties\": {\n        \"dtype\": \"number\",\n        \"std\": 0.5773502691896258,\n        \"min\": 0.0,\n        \"max\": 1.0,\n        \"num_unique_values\": 2,\n        \"samples\": [\n          0.0,\n          1.0\n        ],\n        \"semantic_type\": \"\",\n        \"description\": \"\"\n      }\n    },\n    {\n      \"column\": \"theta = 2\",\n      \"properties\": {\n        \"dtype\": \"number\",\n        \"std\": 0.577321403841338,\n        \"min\": 0.0,\n        \"max\": 1.0,\n        \"num_unique_values\": 3,\n        \"samples\": [\n          1.0,\n          0.9999\n        ],\n        \"semantic_type\": \"\",\n        \"description\": \"\"\n      }\n    }\n  ]\n}"
            }
          },
          "metadata": {},
          "execution_count": 88
        }
      ],
      "source": [
        "names = ['two_sided', 'greater', 'less']\n",
        "\n",
        "X_1 = sps.poisson(mu = 0.2).rvs(size = (sample_count, sample_size))\n",
        "X_2  = sps.poisson(mu = 2.0).rvs(size = (sample_count, sample_size))\n",
        "\n",
        "w_1 = [wald_test(X_1, 1, X_1.mean(axis = 1), np.sqrt(X_1.mean(axis = 1)), alternative = name)[0] for name in names]\n",
        "w_2  = [wald_test(X_2, 1, X_2.mean(axis = 1), np.sqrt(X_2.mean(axis = 1)), alternative = name)[0] for name in names]\n",
        "\n",
        "z = [sps.norm.ppf(1 - alpha/2), sps.norm.ppf(1 - alpha), sps.norm.ppf(alpha)]\n",
        "\n",
        "\n",
        "answer = pd.DataFrame({\n",
        "    'theta = 0.2' : (np.mean(w_1[0] > z[0]), np.mean(w_1[1] > z[1]), np.mean(w_1[2] < z[2])),\n",
        "    'theta = 2' : (np.mean(w_1[0] > z[0]), np.mean(w_2[1] > z[1]), np.mean(w_2[2] < z[2]))\n",
        "}, index = names)\n",
        "\n",
        "answer"
      ]
    },
    {
      "cell_type": "markdown",
      "id": "9419248f",
      "metadata": {
        "id": "9419248f"
      },
      "source": [
        "**Вывод:**\n",
        "\n",
        "В данном случае наблюдается соответствие ожиданиям: двусторонняя альтернатива демонстрирует высокую эффективность как в случае отклонения параметра как в сторону увеличения, так и уменьшения относительно нулевой гипотезы, что подтверждает ее высокую мощность.\n",
        "\n",
        "Левосторонняя альтернатива также демонстрирует высокую мощность теста лишь в случае отклонения параметра в меньшую сторону от нулевой гипотезы $(\\theta = 0.2)$, в то время как для второго случая мощность составляет ноль.\n",
        "\n",
        "Для правосторонней альтернативы наблюдается обратная ситуация: при $\\theta = 2$ мощность высока, в то время как для второго случая мощность также равна нулю.\n",
        "\n",
        "В целом, результаты соответствуют ожиданиям, что демонстрирует логичность и правильность выбранного метода."
      ]
    },
    {
      "cell_type": "markdown",
      "id": "bc47e3b0",
      "metadata": {
        "id": "bc47e3b0"
      },
      "source": [
        "\n",
        "\n",
        "### Задача 4"
      ]
    },
    {
      "cell_type": "markdown",
      "id": "2d01f479",
      "metadata": {
        "id": "2d01f479"
      },
      "source": [
        "**Профиль физика**\n",
        "\n",
        "Период колебания математического маятника можно расчиатать по следующей формуле:\n",
        "$$T = 2\\pi \\sqrt{\\frac{l}{g}}$$\n",
        "Вы выполнили лабораторную работу по вычислению ускорения свободного падения. Длина нити маятника 50 см. В своей работе вы измеряли время 10 полных колебаний (10 периодов) с помощью обычного секундомера и получили такие значение:\n",
        "\n",
        "\n"
      ]
    },
    {
      "cell_type": "code",
      "execution_count": null,
      "id": "48281659",
      "metadata": {
        "id": "48281659"
      },
      "outputs": [],
      "source": [
        "T_sample = [14.47, 14.46, 14.73, 14.74, 16.14, 12.6, 14.17, 12.83, 14.1, 12.81, 12.98,\n",
        "            13.84, 13.96, 13.6, 14.13, 15.32, 13.98, 13.96, 12.86, 15.46, 13.2, 15.26,\n",
        "            14.86, 14.49, 14.8, 12.92, 14.65, 14.47, 15.88, 15.04, 14.84, 15.12, 12.96,\n",
        "            16.2, 11.99, 15.57, 13.55, 13.16, 14.76, 13.79, 12.58, 14.61, 14.1, 14.54,\n",
        "            14.72, 14.87, 13.37, 14.04, 13.09, 14.7]"
      ]
    },
    {
      "cell_type": "markdown",
      "id": "c548b045",
      "metadata": {
        "id": "c548b045"
      },
      "source": [
        "Получите массив величин g, используя формулу выше."
      ]
    },
    {
      "cell_type": "code",
      "execution_count": null,
      "id": "75e37d64",
      "metadata": {
        "id": "75e37d64"
      },
      "outputs": [],
      "source": [
        "<...>"
      ]
    },
    {
      "cell_type": "markdown",
      "id": "c7c6586c",
      "metadata": {
        "id": "c7c6586c"
      },
      "source": [
        "Предположим, такие величины имеют нормальное распределение $\\mathcal{N}(a, \\sigma^2)$. Используйте критерий Вальда для проверки гипотезы $\\mathsf{H}_0: a = 9.81$ vs $\\mathsf{H}_1: a \\neq 9.81$\n"
      ]
    },
    {
      "cell_type": "code",
      "execution_count": null,
      "id": "5669ee57",
      "metadata": {
        "id": "5669ee57"
      },
      "outputs": [],
      "source": [
        "<...>"
      ]
    },
    {
      "cell_type": "markdown",
      "id": "e163db40",
      "metadata": {
        "id": "e163db40"
      },
      "source": [
        "**Вывод:**"
      ]
    },
    {
      "cell_type": "markdown",
      "id": "6e70e12a",
      "metadata": {
        "id": "6e70e12a"
      },
      "source": [
        "**Профиль биология**\n",
        "\n",
        "Испытывается эффективность препарата, понижающего температуру. Каждому пациенту измеряют температуру до и после приема препарата. В результате разность температур для испытуемых получилась равной:\n"
      ]
    },
    {
      "cell_type": "code",
      "execution_count": 91,
      "id": "0cea9ef2",
      "metadata": {
        "id": "0cea9ef2"
      },
      "outputs": [],
      "source": [
        "a_sample = np.array([1.19, 0.84, 1.3, 0.76, 0.99, 1.3, 0.97, 0.91, 0.97, 0.99, 1.18, 0.93, 0.84, 1.07, 0.95,\n",
        "     1.01, 1.04, 0.84, 1.0, 1.19, 1.31, 0.97, 1.1, 0.86, 1.02, 0.95, 0.93, 0.84, 0.85, 0.78])"
      ]
    },
    {
      "cell_type": "markdown",
      "id": "85a0eb3f",
      "metadata": {
        "id": "85a0eb3f"
      },
      "source": [
        "Предположим, такие величины имеют нормальное распределение $\\mathcal{N}(a, \\sigma^2)$. С помощью критерия Вальда проверьте гипотезу: $\\mathsf{H}_0 \\colon a=0$ vs. $\\mathsf{H}_1 \\colon a > 0$."
      ]
    },
    {
      "cell_type": "code",
      "execution_count": 95,
      "id": "aab196d9",
      "metadata": {
        "colab": {
          "base_uri": "https://localhost:8080/"
        },
        "id": "aab196d9",
        "outputId": "677c6487-8133-46d5-f09e-0ca069502218"
      },
      "outputs": [
        {
          "output_type": "stream",
          "name": "stdout",
          "text": [
            "\n",
            " Статистика: 36.4087145, \n",
            " P-value: 0.0, \n",
            " Доверительный интервал: (0.951, inf)\n"
          ]
        }
      ],
      "source": [
        "estim = a_sample.mean()\n",
        "std = a_sample.std()\n",
        "theta = 0\n",
        "\n",
        "greater = wald_test(a_sample, theta, estim, std, alternative = 'greater')\n",
        "print(f'\\n Статистика: {greater[0]}, \\n P-value: {greater[1]}, \\n Доверительный интервал: {greater[2]}')"
      ]
    },
    {
      "cell_type": "markdown",
      "id": "d98f0ff2",
      "metadata": {
        "id": "d98f0ff2"
      },
      "source": [
        "**Вывод:**\n",
        "\n",
        "Уровень значимости критерия составляет 0, что позволяет нам отвергнуть нулевую гипотезу о том, что среднее значение разности температур равно нулю. Размер выборки велик, что обеспечивает надежность результатов и уменьшает вероятность ошибки."
      ]
    },
    {
      "cell_type": "markdown",
      "id": "adfe0600",
      "metadata": {
        "id": "adfe0600"
      },
      "source": [
        "### <b><i><font color=\"orange\">Сложная часть</font></i></b>"
      ]
    },
    {
      "cell_type": "markdown",
      "id": "034c700e",
      "metadata": {
        "id": "034c700e"
      },
      "source": [
        "\n",
        "###  Задача 5\n",
        "1. Пусть $X = ( X_1, ... X_n)$ — выборка из неизвестного распределения $\\mathsf{P} \\in \\mathcal{N}(a, \\sigma^2)$. Постройте критерий для проверки гипотез $\\mathsf{H}_0 : a = 0 $   vs.  $\\mathsf{H}_1 : a > 0$ уровня значимости $\\alpha$.\n",
        "\n",
        "Бонусный сложный пункт: получите выражение для p-value аналогично правостороннему критерию Вальда\n",
        "\n",
        "*Указание:*\n",
        "- Используйте статистику $T(X) = \\sqrt{n - 1} \\frac{\\overline{X}}{s}$, использовавшуюся при построении точных доверительных интервалов в нормальной модели. Какое распределение она имеет при справедливости $\\mathsf{H}_0$ (т.е. при $a = 0$)?\n",
        "- Подумайте, какой вид должен иметь критерий? При каких значениях $T(X)$ гипотезу $\\mathsf{H}_0$ разумно отвергать?\n",
        "- Этот критерий реализован в `scipy.stats.ttest_1samp`. Использовать для данной задачи его можно следующим образом: `sps.ttest_1samp(sample, popmean=0, alternative='greater')`. В результате применения функция вернет значение статистики критерия, p-value и количество степеней свободы. Вы можете проверить свой ответ с ее помощью.\n",
        "\n",
        "**Решение:**\n",
        "\n",
        "- Данная статистика имеет распределение Стюдента с n - 1 степенями свободы: $T(X) = T_{n-1}$.\n",
        "\n",
        "- Критерий должен быть аналогичным критерию Вальда, но с квантилями для распределения Стюдента:\n",
        "    \n",
        "    - Для двусторонней оценки:\n",
        "        $$S = \\{|T(X)| > T_{n-1, 1 - \\frac{\\alpha}{2}}\\}$$\n",
        "        \n",
        "    - Для правосторонней оценки:\n",
        "        $$S = \\{T(X) > T_{n-1, 1 - \\alpha}\\}$$\n",
        "        \n",
        "    - Для левосторонней оценки:\n",
        "        $$S = \\{T(X) < T_{n-1, \\alpha}\\}$$\n",
        "        \n",
        "- Документация метода `scipy.stats.ttest_1samp` также подтверждает мой ответ про распределение Стьюдента."
      ]
    },
    {
      "cell_type": "markdown",
      "id": "5b415e77",
      "metadata": {
        "id": "5b415e77"
      },
      "source": [
        "2. Пусть  $X = ( X_1, ... X_n)$ &mdash; выборка из неизвестного распределения $\\mathsf{P}$ с конечным вторым моментом. Постройте асимптотический критерий для проверки гипотез $\\mathsf{H}_0 \\colon \\mathsf{E} X = 0 $   vs.  $\\mathsf{H}_1 \\colon \\mathsf{E} X > 0$ уровня значимости $\\alpha$. Покажите, что при $n \\to \\infty$ этот критерий совпадает с критерием из первого пункта.\n",
        "\n",
        "**Решение:**\n",
        "\n",
        "Применим критерий Вальда, так как он является ассимптотическим. Тогда для поставленной задачи имеем критерий:\n",
        "\n",
        "$$S = \\{W > z_{1 - \\alpha}\\}, \\; где \\; W = \\sqrt{n} \\frac{\\hat{\\theta} - \\theta_0}{\\hat{\\sigma}} = \\sqrt{n} \\frac{\\hat{\\theta}}{\\hat{\\sigma}}$$\n",
        "\n",
        "При $n \\rightarrow \\infty$ распределение Стьюдента стремится к нормальному:\n",
        "    \n",
        "$$\\frac{\\sqrt{n - 1}}{S} \\overline{X} \\xrightarrow[n \\to \\infty]{} \\frac{\\sqrt{n}}{S}\\overline{X} \\sim {\\cal N}(0, 1)$$\n",
        "\n",
        "То есть при больших n критерии Вальда и Стьюдента совпадают."
      ]
    }
  ],
  "metadata": {
    "kernelspec": {
      "display_name": "Python 3 (ipykernel)",
      "language": "python",
      "name": "python3"
    },
    "language_info": {
      "codemirror_mode": {
        "name": "ipython",
        "version": 3
      },
      "file_extension": ".py",
      "mimetype": "text/x-python",
      "name": "python",
      "nbconvert_exporter": "python",
      "pygments_lexer": "ipython3",
      "version": "3.9.7"
    },
    "colab": {
      "provenance": []
    }
  },
  "nbformat": 4,
  "nbformat_minor": 5
}