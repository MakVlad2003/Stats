{
  "cells": [
    {
      "cell_type": "code",
      "execution_count": 8,
      "metadata": {
        "id": "eE3tfCTPA4IY"
      },
      "outputs": [],
      "source": [
        "from sklearn import datasets\n",
        "from sklearn.metrics import mean_squared_error, mean_absolute_percentage_error\n",
        "from sklearn.tree import DecisionTreeRegressor\n",
        "from sklearn.model_selection import train_test_split\n",
        "from sklearn.model_selection import KFold\n",
        "from sklearn.tree import DecisionTreeRegressor\n",
        "\n",
        "import numpy as np\n",
        "from matplotlib.colors import ListedColormap\n",
        "import matplotlib.pyplot as plt\n",
        "import seaborn as sns\n",
        "sns.set(font_scale=1.5)"
      ]
    },
    {
      "cell_type": "markdown",
      "metadata": {
        "id": "o4Y8EAIJA4Ib"
      },
      "source": [
        "## Кросс-валидация"
      ]
    },
    {
      "cell_type": "markdown",
      "metadata": {
        "id": "tYObxbiaA4Id"
      },
      "source": [
        "Загрузим уже знакомый вам датасет о диабете."
      ]
    },
    {
      "cell_type": "code",
      "execution_count": 2,
      "metadata": {
        "id": "Dqw6q_gcA4Id"
      },
      "outputs": [],
      "source": [
        "data = datasets.load_diabetes()\n",
        "X = data['data']\n",
        "y = data['target']\n"
      ]
    },
    {
      "cell_type": "markdown",
      "metadata": {
        "id": "STftLe7_A4Ie"
      },
      "source": [
        "Мы хотим посмотреть, насколько хорошо работают наши модели при различных разбиениях данных. На лекции вы ознакомилимь в принципами работы  `k-Fold` кросс-валидации, давайте посмотрим как это работает на практике."
      ]
    },
    {
      "cell_type": "markdown",
      "metadata": {
        "id": "dMXqyWnuA4Ie"
      },
      "source": [
        "Выберем кол-во сплитов, на которое мы хотим разделить наши данные."
      ]
    },
    {
      "cell_type": "code",
      "execution_count": 3,
      "metadata": {
        "id": "rlEe07ClA4Ie"
      },
      "outputs": [],
      "source": [
        "kf = KFold(n_splits=5)"
      ]
    },
    {
      "cell_type": "markdown",
      "metadata": {
        "id": "74oSMCg5A4If"
      },
      "source": [
        "Посмотрим, что выдает функция разбиения."
      ]
    },
    {
      "cell_type": "code",
      "execution_count": 4,
      "metadata": {
        "colab": {
          "base_uri": "https://localhost:8080/"
        },
        "id": "qjLakjDfA4If",
        "outputId": "7d7edcc1-c88c-4787-d098-f04b206533a0"
      },
      "outputs": [
        {
          "output_type": "execute_result",
          "data": {
            "text/plain": [
              "<generator object _BaseKFold.split at 0x7e2a29322d50>"
            ]
          },
          "metadata": {},
          "execution_count": 4
        }
      ],
      "source": [
        "kf.split(X, y)"
      ]
    },
    {
      "cell_type": "markdown",
      "metadata": {
        "id": "FktPKXOPA4If"
      },
      "source": [
        "Мы получаем генератор, посмотрим подробнее на небольшой подвыборке для наглядности."
      ]
    },
    {
      "cell_type": "code",
      "execution_count": 5,
      "metadata": {
        "colab": {
          "base_uri": "https://localhost:8080/"
        },
        "id": "YqYrTezRA4Ig",
        "outputId": "0697ea6d-9d46-4ce8-b7c2-8c5fa40e2f97"
      },
      "outputs": [
        {
          "output_type": "stream",
          "name": "stdout",
          "text": [
            "Train:  [2 3 4 5 6 7 8 9] Test:  [0 1]\n",
            "Train:  [0 1 4 5 6 7 8 9] Test:  [2 3]\n",
            "Train:  [0 1 2 3 6 7 8 9] Test:  [4 5]\n",
            "Train:  [0 1 2 3 4 5 8 9] Test:  [6 7]\n",
            "Train:  [0 1 2 3 4 5 6 7] Test:  [8 9]\n"
          ]
        }
      ],
      "source": [
        "for train, test in kf.split(X[:10], y[:10]):\n",
        "    print('Train: ', train, 'Test: ', test)\n"
      ]
    },
    {
      "cell_type": "markdown",
      "metadata": {
        "id": "I7szJd3cA4Ig"
      },
      "source": [
        "При каждой итерации мы получаем два списка с индексами: тренировочные индексы и тестовые. Благодарая им мы можем на каждой итерации отделять разные тестовые выборки, чтобы посчитать метрики качества на них. На каждой итерации необходимо заново обучать модель и делать предсказания.\n",
        "\n",
        "\n"
      ]
    },
    {
      "cell_type": "code",
      "execution_count": 9,
      "metadata": {
        "id": "ZBO_FGAkA4Ig"
      },
      "outputs": [],
      "source": [
        "mse = []\n",
        "mape = []\n",
        "for train, test in kf.split(X, y):\n",
        "    # инициализируйте и обучите модель решающего дерева\n",
        "    model = DecisionTreeRegressor()\n",
        "    model.fit(X[train], y[train])\n",
        "\n",
        "\n",
        "    # сделайте предсказание\n",
        "    pred = model.predict(X[test])\n",
        "\n",
        "    # посчитайте метрики и сохраните их\n",
        "    mse.append(mean_squared_error(y[test], pred))\n",
        "    mape.append(mean_absolute_percentage_error(y[test], pred))"
      ]
    },
    {
      "cell_type": "markdown",
      "metadata": {
        "id": "qben2oKZA4Ih"
      },
      "source": [
        "Посмотрим, как меняются метрики качества во время кросс-валидации."
      ]
    },
    {
      "cell_type": "code",
      "execution_count": 10,
      "metadata": {
        "colab": {
          "base_uri": "https://localhost:8080/"
        },
        "id": "pnyazSo3A4Ih",
        "outputId": "9ec78b5f-dfca-491f-ab31-9ca21e462200"
      },
      "outputs": [
        {
          "output_type": "execute_result",
          "data": {
            "text/plain": [
              "[6584.61797752809,\n",
              " 6797.112359550561,\n",
              " 6868.431818181818,\n",
              " 5324.409090909091,\n",
              " 7775.670454545455]"
            ]
          },
          "metadata": {},
          "execution_count": 10
        }
      ],
      "source": [
        "mse"
      ]
    },
    {
      "cell_type": "code",
      "execution_count": 11,
      "metadata": {
        "colab": {
          "base_uri": "https://localhost:8080/"
        },
        "id": "wvHTPG5iA4Ih",
        "outputId": "16ebb084-5443-48d5-a706-71e99715178f"
      },
      "outputs": [
        {
          "output_type": "execute_result",
          "data": {
            "text/plain": [
              "[0.6152445512657452,\n",
              " 0.5325855083491571,\n",
              " 0.5452689193763465,\n",
              " 0.3993459325437104,\n",
              " 0.6357925453707317]"
            ]
          },
          "metadata": {},
          "execution_count": 11
        }
      ],
      "source": [
        "mape"
      ]
    }
  ],
  "metadata": {
    "kernelspec": {
      "display_name": "sber",
      "language": "python",
      "name": "python3"
    },
    "language_info": {
      "codemirror_mode": {
        "name": "ipython",
        "version": 3
      },
      "file_extension": ".py",
      "mimetype": "text/x-python",
      "name": "python",
      "nbconvert_exporter": "python",
      "pygments_lexer": "ipython3",
      "version": "3.10.4"
    },
    "orig_nbformat": 4,
    "colab": {
      "provenance": []
    }
  },
  "nbformat": 4,
  "nbformat_minor": 0
}